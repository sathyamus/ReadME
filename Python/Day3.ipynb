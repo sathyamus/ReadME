{
 "cells": [
  {
   "cell_type": "code",
   "execution_count": 2,
   "id": "7eea6351",
   "metadata": {},
   "outputs": [
    {
     "name": "stdout",
     "output_type": "stream",
     "text": [
      "Welcome\n"
     ]
    }
   ],
   "source": [
    "def display():\n",
    "    print(\"Hello\")\n",
    "    print(\" World\")\n",
    "print(\"Welcome\")"
   ]
  },
  {
   "cell_type": "code",
   "execution_count": 3,
   "id": "0d4feabd",
   "metadata": {},
   "outputs": [
    {
     "name": "stdout",
     "output_type": "stream",
     "text": [
      "Hello\n",
      " World\n"
     ]
    }
   ],
   "source": [
    "display()"
   ]
  },
  {
   "cell_type": "code",
   "execution_count": 4,
   "id": "6382c6bb",
   "metadata": {},
   "outputs": [],
   "source": [
    "def greet(name):\n",
    "    print(\"Hello \" + name)\n",
    "    print(\"Welcome to Python3 function class\")"
   ]
  },
  {
   "cell_type": "code",
   "execution_count": 5,
   "id": "8471f588",
   "metadata": {
    "scrolled": true
   },
   "outputs": [
    {
     "name": "stdout",
     "output_type": "stream",
     "text": [
      "Hello Deeksha\n",
      "Welcome to Python3 function class\n"
     ]
    }
   ],
   "source": [
    "greet(\"Deeksha\")"
   ]
  },
  {
   "cell_type": "code",
   "execution_count": 9,
   "id": "d00a6125",
   "metadata": {},
   "outputs": [
    {
     "name": "stdout",
     "output_type": "stream",
     "text": [
      "0 4\n",
      "1 0\n"
     ]
    }
   ],
   "source": [
    "print(4//5, 4%5)\n",
    "print(5//5, 5%5)"
   ]
  },
  {
   "cell_type": "code",
   "execution_count": 10,
   "id": "d5c6dbe9",
   "metadata": {},
   "outputs": [
    {
     "name": "stdout",
     "output_type": "stream",
     "text": [
      "Square of  5\n",
      "25\n"
     ]
    }
   ],
   "source": [
    "def square(val):\n",
    "    print(\"Square of \", val)    \n",
    "    return val*val\n",
    "print(square(5))"
   ]
  },
  {
   "cell_type": "code",
   "execution_count": 11,
   "id": "d32e0b52",
   "metadata": {},
   "outputs": [
    {
     "name": "stdout",
     "output_type": "stream",
     "text": [
      "Square of  6\n",
      "36\n"
     ]
    }
   ],
   "source": [
    "print(square(6))"
   ]
  },
  {
   "cell_type": "code",
   "execution_count": 22,
   "id": "6e6f7d0f",
   "metadata": {},
   "outputs": [],
   "source": [
    "def factorial(num):\n",
    "    if (num == 1 or num == 0) :\n",
    "        return 1\n",
    "    res = num * factorial(num-1)\n",
    "    return res\n"
   ]
  },
  {
   "cell_type": "code",
   "execution_count": 23,
   "id": "bce761c8",
   "metadata": {},
   "outputs": [
    {
     "name": "stdout",
     "output_type": "stream",
     "text": [
      "120\n"
     ]
    }
   ],
   "source": [
    "print(factorial(5))"
   ]
  },
  {
   "cell_type": "code",
   "execution_count": 25,
   "id": "9a505479",
   "metadata": {},
   "outputs": [
    {
     "name": "stdout",
     "output_type": "stream",
     "text": [
      "1\n"
     ]
    }
   ],
   "source": [
    "print(factorial(0))"
   ]
  },
  {
   "cell_type": "code",
   "execution_count": 26,
   "id": "bc16b115",
   "metadata": {},
   "outputs": [],
   "source": [
    "def displayFactorial(num):\n",
    "    print(num)\n",
    "    if (num == 1):\n",
    "        return 1\n",
    "    res = print(num, factorial(num-1))\n",
    "    return res"
   ]
  },
  {
   "cell_type": "code",
   "execution_count": 27,
   "id": "74065350",
   "metadata": {},
   "outputs": [
    {
     "name": "stdout",
     "output_type": "stream",
     "text": [
      "10\n",
      "10 362880\n"
     ]
    }
   ],
   "source": [
    "displayFactorial(10)"
   ]
  },
  {
   "cell_type": "code",
   "execution_count": 28,
   "id": "f77cb0b8",
   "metadata": {},
   "outputs": [
    {
     "name": "stdout",
     "output_type": "stream",
     "text": [
      "5\n",
      "5 24\n"
     ]
    }
   ],
   "source": [
    "displayFactorial(5)"
   ]
  },
  {
   "cell_type": "code",
   "execution_count": 30,
   "id": "6288a4ea",
   "metadata": {},
   "outputs": [
    {
     "name": "stdout",
     "output_type": "stream",
     "text": [
      "> Hello\n",
      "Hello\n",
      "> Sathya\n",
      "Sathya\n",
      "> Deeksha\n",
      "Deeksha\n",
      "> Sai\n",
      "Sai\n",
      "> Sahasra\n",
      "Sahasra\n",
      "> Done\n",
      "Done\n",
      "> done\n",
      "done\n"
     ]
    }
   ],
   "source": [
    "while (True):\n",
    "    line = input(\"> \")\n",
    "    print(line)\n",
    "    if (line == 'done'):\n",
    "        break"
   ]
  },
  {
   "cell_type": "code",
   "execution_count": 31,
   "id": "292ac44c",
   "metadata": {},
   "outputs": [
    {
     "name": "stdout",
     "output_type": "stream",
     "text": [
      "1\n",
      "2\n",
      "2\n",
      "3\n",
      "2\n",
      "1\n"
     ]
    }
   ],
   "source": [
    "for i in [1,2,2,3,2,1]:\n",
    "    print(i)\n"
   ]
  },
  {
   "cell_type": "code",
   "execution_count": 34,
   "id": "401ad020",
   "metadata": {},
   "outputs": [
    {
     "name": "stdout",
     "output_type": "stream",
     "text": [
      "10\n",
      "9\n",
      "8\n",
      "7\n",
      "6\n",
      "5\n",
      "4\n",
      "3\n",
      "2\n",
      "1\n"
     ]
    }
   ],
   "source": [
    "for i in range(10, 0, -1):\n",
    "    print(i)"
   ]
  },
  {
   "cell_type": "code",
   "execution_count": 35,
   "id": "ffe8f376",
   "metadata": {},
   "outputs": [
    {
     "name": "stdout",
     "output_type": "stream",
     "text": [
      "0\n",
      "2\n",
      "4\n",
      "6\n",
      "8\n"
     ]
    }
   ],
   "source": [
    "for i in range(0, 10, 2):\n",
    "    print(i)"
   ]
  },
  {
   "cell_type": "code",
   "execution_count": 36,
   "id": "a4f8d39f",
   "metadata": {},
   "outputs": [
    {
     "data": {
      "text/plain": [
       "False"
      ]
     },
     "execution_count": 36,
     "metadata": {},
     "output_type": "execute_result"
    }
   ],
   "source": [
    "1 not in [1,2,3]"
   ]
  },
  {
   "cell_type": "code",
   "execution_count": 37,
   "id": "c3c83a46",
   "metadata": {},
   "outputs": [
    {
     "data": {
      "text/plain": [
       "True"
      ]
     },
     "execution_count": 37,
     "metadata": {},
     "output_type": "execute_result"
    }
   ],
   "source": [
    "5 not in [1,2,3]"
   ]
  },
  {
   "cell_type": "code",
   "execution_count": 38,
   "id": "c1628794",
   "metadata": {},
   "outputs": [
    {
     "name": "stdout",
     "output_type": "stream",
     "text": [
      "0\n",
      "1\n",
      "2\n",
      "3\n",
      "4\n"
     ]
    }
   ],
   "source": [
    "# Iterating using for\n",
    "for i in range(5):\n",
    "    print(i)\n"
   ]
  },
  {
   "cell_type": "code",
   "execution_count": 39,
   "id": "6552b564",
   "metadata": {},
   "outputs": [
    {
     "name": "stdout",
     "output_type": "stream",
     "text": [
      "74\n"
     ]
    }
   ],
   "source": [
    "numbers = [3,41,12,9,74,15]\n",
    "maxNumber = 0\n",
    "for i in numbers:\n",
    "    if (i > maxNumber):\n",
    "        maxNumber = i\n",
    "print(maxNumber)"
   ]
  },
  {
   "cell_type": "code",
   "execution_count": 40,
   "id": "af65d608",
   "metadata": {},
   "outputs": [],
   "source": [
    "a = 'Sathya'"
   ]
  },
  {
   "cell_type": "code",
   "execution_count": 41,
   "id": "74f22924",
   "metadata": {},
   "outputs": [],
   "source": [
    " interest = \"6.90\""
   ]
  },
  {
   "cell_type": "code",
   "execution_count": 42,
   "id": "e33e37b7",
   "metadata": {},
   "outputs": [
    {
     "name": "stdout",
     "output_type": "stream",
     "text": [
      "6.90\n"
     ]
    }
   ],
   "source": [
    "print(interest)"
   ]
  },
  {
   "cell_type": "code",
   "execution_count": 43,
   "id": "e4301c37",
   "metadata": {},
   "outputs": [
    {
     "ename": "TypeError",
     "evalue": "can only concatenate str (not \"int\") to str",
     "output_type": "error",
     "traceback": [
      "\u001b[1;31m---------------------------------------------------------------------------\u001b[0m",
      "\u001b[1;31mTypeError\u001b[0m                                 Traceback (most recent call last)",
      "\u001b[1;32m<ipython-input-43-c357502105e2>\u001b[0m in \u001b[0;36m<module>\u001b[1;34m\u001b[0m\n\u001b[1;32m----> 1\u001b[1;33m \u001b[0mprint\u001b[0m\u001b[1;33m(\u001b[0m\u001b[0minterest\u001b[0m\u001b[1;33m+\u001b[0m\u001b[1;36m1\u001b[0m\u001b[1;33m)\u001b[0m\u001b[1;33m\u001b[0m\u001b[1;33m\u001b[0m\u001b[0m\n\u001b[0m",
      "\u001b[1;31mTypeError\u001b[0m: can only concatenate str (not \"int\") to str"
     ]
    }
   ],
   "source": [
    "print(interest+1)"
   ]
  },
  {
   "cell_type": "code",
   "execution_count": 44,
   "id": "2369f668",
   "metadata": {},
   "outputs": [],
   "source": [
    "interest = '6.90'"
   ]
  },
  {
   "cell_type": "code",
   "execution_count": 45,
   "id": "49e1d13f",
   "metadata": {},
   "outputs": [
    {
     "ename": "TypeError",
     "evalue": "can only concatenate str (not \"int\") to str",
     "output_type": "error",
     "traceback": [
      "\u001b[1;31m---------------------------------------------------------------------------\u001b[0m",
      "\u001b[1;31mTypeError\u001b[0m                                 Traceback (most recent call last)",
      "\u001b[1;32m<ipython-input-45-c357502105e2>\u001b[0m in \u001b[0;36m<module>\u001b[1;34m\u001b[0m\n\u001b[1;32m----> 1\u001b[1;33m \u001b[0mprint\u001b[0m\u001b[1;33m(\u001b[0m\u001b[0minterest\u001b[0m\u001b[1;33m+\u001b[0m\u001b[1;36m1\u001b[0m\u001b[1;33m)\u001b[0m\u001b[1;33m\u001b[0m\u001b[1;33m\u001b[0m\u001b[0m\n\u001b[0m",
      "\u001b[1;31mTypeError\u001b[0m: can only concatenate str (not \"int\") to str"
     ]
    }
   ],
   "source": [
    "print(interest+1)"
   ]
  },
  {
   "cell_type": "code",
   "execution_count": 46,
   "id": "173e95cc",
   "metadata": {},
   "outputs": [],
   "source": [
    "interest = 6.90"
   ]
  },
  {
   "cell_type": "code",
   "execution_count": 47,
   "id": "bf7adbe1",
   "metadata": {},
   "outputs": [
    {
     "name": "stdout",
     "output_type": "stream",
     "text": [
      "7.9\n"
     ]
    }
   ],
   "source": [
    "print(interest+1)"
   ]
  },
  {
   "cell_type": "code",
   "execution_count": null,
   "id": "a3544a22",
   "metadata": {},
   "outputs": [],
   "source": []
  }
 ],
 "metadata": {
  "kernelspec": {
   "display_name": "Python 3",
   "language": "python",
   "name": "python3"
  },
  "language_info": {
   "codemirror_mode": {
    "name": "ipython",
    "version": 3
   },
   "file_extension": ".py",
   "mimetype": "text/x-python",
   "name": "python",
   "nbconvert_exporter": "python",
   "pygments_lexer": "ipython3",
   "version": "3.8.8"
  }
 },
 "nbformat": 4,
 "nbformat_minor": 5
}
